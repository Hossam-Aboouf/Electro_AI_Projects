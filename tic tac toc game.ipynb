{
 "cells": [
  {
   "cell_type": "code",
   "execution_count": null,
   "metadata": {},
   "outputs": [],
   "source": [
    "game_board = [['-', '-', '-'], ['-', '-', '-'], ['-', '-', '-']]"
   ]
  },
  {
   "cell_type": "code",
   "execution_count": null,
   "metadata": {},
   "outputs": [],
   "source": [
    "def print_game_board(game_board):\n",
    "    for row in game_board:\n",
    "        print('  '.join(row))\n",
    "        print()\n"
   ]
  },
  {
   "cell_type": "code",
   "execution_count": null,
   "metadata": {},
   "outputs": [],
   "source": [
    "def handel_player_move(game_board, player_sample):\n",
    "    is_valid_row_number = False\n",
    "    is_valid_column_number = False\n",
    "    print(f'Player({player_sample}): you have to enter position of you move row first and then column')\n",
    "    while not is_valid_row_number:\n",
    "        ind_of_row_as_str = input('Enter number of row (integer value from 0 to 2): ')\n",
    "        if ind_of_row_as_str.isdigit() and 0 <= int(ind_of_row_as_str) <= 2:\n",
    "            is_valid_row_number = True\n",
    "            ind_of_row = int(ind_of_row_as_str)\n",
    "        else:\n",
    "            is_valid_row_number = False\n",
    "            print('Row number should not contain char/s and from (0) to (2)')\n",
    "    while not is_valid_column_number:\n",
    "        ind_of_column_as_str = input('Enter number of column (integer value from 0 to 2): ')\n",
    "        if ind_of_column_as_str.isdigit() and 0 <= int(ind_of_column_as_str) <= 2:\n",
    "            is_valid_column_number = True\n",
    "            ind_of_column = int(ind_of_column_as_str)\n",
    "        else:\n",
    "            is_valid_column_number = False\n",
    "            print('Column number should not contain char/s and from (0) to (2)')\n",
    "    \n",
    "    game_board[ind_of_row][ind_of_column] = player_sample\n",
    "    \n"
   ]
  },
  {
   "cell_type": "code",
   "execution_count": null,
   "metadata": {},
   "outputs": [],
   "source": [
    "def check_for_win(game_board, player_sample):\n",
    "    is_win = False\n",
    "    if ''.join(game_board[0]) == player_sample * 3 or\\\n",
    "    ''.join(game_board[1]) == player_sample * 3 or\\\n",
    "    ''.join(game_board[2]) == player_sample * 3 or\\\n",
    "    ''.join([game_board[0][0], game_board[1][0], game_board[2][0]]) == player_sample * 3 or\\\n",
    "    ''.join([game_board[0][1], game_board[1][1], game_board[2][1]]) == player_sample * 3 or\\\n",
    "    ''.join([game_board[0][2], game_board[1][2], game_board[2][2]]) == player_sample * 3 or\\\n",
    "    ''.join([game_board[0][0], game_board[1][1], game_board[2][2]]) == player_sample * 3 or\\\n",
    "    ''.join([game_board[0][2], game_board[1][1], game_board[2][0]]) == player_sample * 3:\n",
    "        is_win = True\n",
    "    return is_win"
   ]
  },
  {
   "cell_type": "code",
   "execution_count": null,
   "metadata": {},
   "outputs": [],
   "source": [
    "def check_for_tie(game_board):\n",
    "    for row in game_board:\n",
    "        for col in row:\n",
    "            if col == '-':\n",
    "                return False\n",
    "    return True"
   ]
  },
  {
   "cell_type": "code",
   "execution_count": null,
   "metadata": {},
   "outputs": [],
   "source": [
    "is_win_or_tie = False\n",
    "print_game_board(game_board)\n",
    "while not is_win_or_tie:\n",
    "    for player_sample in ['X', 'O']:\n",
    "        handel_player_move(game_board, player_sample)\n",
    "        print_game_board(game_board)\n",
    "        if check_for_win(game_board, player_sample):\n",
    "            print(f'congratulation player ({player_sample}) you win the game')\n",
    "            is_win_or_tie = True\n",
    "        elif check_for_tie(game_board):\n",
    "            print(f'No one of you won the game (you both  are tie)')\n",
    "            is_win_or_tie = True\n",
    "\n"
   ]
  },
  {
   "cell_type": "code",
   "execution_count": null,
   "metadata": {},
   "outputs": [],
   "source": []
  }
 ],
 "metadata": {
  "kernelspec": {
   "display_name": "Python 3",
   "language": "python",
   "name": "python3"
  },
  "language_info": {
   "codemirror_mode": {
    "name": "ipython",
    "version": 3
   },
   "file_extension": ".py",
   "mimetype": "text/x-python",
   "name": "python",
   "nbconvert_exporter": "python",
   "pygments_lexer": "ipython3",
   "version": "3.11.3"
  },
  "orig_nbformat": 4
 },
 "nbformat": 4,
 "nbformat_minor": 2
}
